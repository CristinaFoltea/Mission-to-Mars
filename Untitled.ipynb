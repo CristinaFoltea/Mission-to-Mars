{
 "cells": [
  {
   "cell_type": "code",
   "execution_count": 9,
   "metadata": {},
   "outputs": [],
   "source": [
    "# Import Splinter and BeautifulSoup\n",
    "from splinter import Browser\n",
    "from bs4 import BeautifulSoup\n",
    "import datetime as dt\n",
    "import pandas as pd "
   ]
  },
  {
   "cell_type": "code",
   "execution_count": 10,
   "metadata": {},
   "outputs": [],
   "source": [
    "def mars_hemispheres(browser):\n",
    "  # Visit mars hemispheres page\n",
    "  url = 'https://astrogeology.usgs.gov/search/results?q=hemisphere+enhanced&k1=target&v1=Mars'\n",
    "  browser.visit(url)\n",
    "\n",
    "  # Parse the resulting html with soup\n",
    "  html = browser.html\n",
    "  hm_soup = BeautifulSoup(html, 'html.parser')\n",
    "\n",
    "  # empty list that will contain the collected data\n",
    "  list_hm = []\n",
    "\n",
    "  # Get list of individual hemisphere element\n",
    "  try:\n",
    "    wrapper = hm_soup.select_one(\"#product-section\")\n",
    "    list_hm_el = wrapper.select(\".item\")\n",
    "  except BaseException:\n",
    "    return [\n",
    "        {\n",
    "            \"title\": \"kitty1\",\n",
    "            \"img_url\": \"https://live.staticflickr.com/3397/3551189653_501acccd41_b.jpg\"\n",
    "        },\n",
    "        {\n",
    "            \"title\": \"kitty2\",\n",
    "            \"img_url\": \"https://live.staticflickr.com/3397/3551189653_501acccd41_b.jpg\"\n",
    "        },\n",
    "        {\n",
    "            \"title\": \"kitty3\",\n",
    "            \"img_url\": \"https://live.staticflickr.com/3397/3551189653_501acccd41_b.jpg\"\n",
    "        },\n",
    "        {\n",
    "            \"title\": \"kitty4\",\n",
    "            \"img_url\": \"https://live.staticflickr.com/3397/3551189653_501acccd41_b.jpg\"\n",
    "        }\n",
    "    ]\n",
    "\n",
    "  # loop though the list to gather extra data for individual hemisphere\n",
    "  for index, hm in enumerate(list_hm_el):\n",
    "    # instantiate a new hemisphere object \n",
    "    hemi = {\n",
    "        'title': \"\",\n",
    "        'image_url': \"\"\n",
    "    }\n",
    "    try:\n",
    "      title_el = hm.select_one('.description h3')\n",
    "      title = title_el.get_text()\n",
    "      link = browser.find_by_css('.description')[index].find_by_tag(\"a\")\n",
    "      link.click()\n",
    "      img_soup = BeautifulSoup(browser.html, 'html.parser')\n",
    "      img_src = img_soup.select_one('#wide-image img.wide-image').get(\"src\")\n",
    "      # insert new data\n",
    "      hemi = {\n",
    "        'title': title,\n",
    "        'image_url': f'https://astrogeology.usgs.gov/{img_src}'\n",
    "      }\n",
    "    except BaseException:\n",
    "      continue\n",
    "    list_hm.append(hemi)\n",
    "    browser.back()\n",
    "  return list_hm"
   ]
  },
  {
   "cell_type": "code",
   "execution_count": 12,
   "metadata": {},
   "outputs": [
    {
     "name": "stdout",
     "output_type": "stream",
     "text": [
      "[{'title': 'kitty1', 'img_url': 'https://live.staticflickr.com/3397/3551189653_501acccd41_b.jpg'}, {'title': 'kitty2', 'img_url': 'https://live.staticflickr.com/3397/3551189653_501acccd41_b.jpg'}, {'title': 'kitty3', 'img_url': 'https://live.staticflickr.com/3397/3551189653_501acccd41_b.jpg'}, {'title': 'kitty4', 'img_url': 'https://live.staticflickr.com/3397/3551189653_501acccd41_b.jpg'}]\n"
     ]
    }
   ],
   "source": [
    "browser = Browser(\"chrome\", executable_path=\"chromedriver\", headless=\"true\")\n",
    "print(mars_hemispheres(browser))"
   ]
  },
  {
   "cell_type": "code",
   "execution_count": null,
   "metadata": {},
   "outputs": [],
   "source": []
  }
 ],
 "metadata": {
  "kernelspec": {
   "display_name": "Python 3",
   "language": "python",
   "name": "python3"
  },
  "language_info": {
   "codemirror_mode": {
    "name": "ipython",
    "version": 3
   },
   "file_extension": ".py",
   "mimetype": "text/x-python",
   "name": "python",
   "nbconvert_exporter": "python",
   "pygments_lexer": "ipython3",
   "version": "3.7.6"
  }
 },
 "nbformat": 4,
 "nbformat_minor": 4
}
